{
 "cells": [
  {
   "cell_type": "code",
   "execution_count": 138,
   "metadata": {},
   "outputs": [],
   "source": [
    "import pandas as pd\n",
    "import numpy as np"
   ]
  },
  {
   "cell_type": "code",
   "execution_count": 139,
   "metadata": {},
   "outputs": [],
   "source": [
    "## IMG_ID to spid\n",
    "ID_metagenome = pd.read_csv(\"../ID_metagenome_jamo.csv\")\n",
    "IMGID_to_spid = ID_metagenome[[\"taxon_oid\",\"JGI Project ID / ITS SP ID\"]]\n",
    "IMGID_to_spid.columns = [\"IMGID\",\"SPID\"]\n",
    "IMGID_to_spid = IMGID_to_spid[IMGID_to_spid[\"SPID\"] != 0]\n",
    "IMGID_to_spid = IMGID_to_spid.astype(\"str\")\n",
    "IMGID_to_spid_dict = dict(zip(IMGID_to_spid[\"IMGID\"],IMGID_to_spid[\"SPID\"]))\n",
    "\n",
    "\n",
    "## spid to path\n",
    "spid_to_path = pd.read_csv(\"../ID_path.txt\",sep=\" \",header=None)\n",
    "spid_to_path = spid_to_path[[0,1]]\n",
    "spid_to_path.columns = [\"SPID\",\"path\"]\n",
    "spid_to_path = spid_to_path.astype(\"str\")\n",
    "\n",
    "\n",
    "#np.mean(spid_to_path[\"SPID\"] == \"3300000176\") == 0"
   ]
  },
  {
   "cell_type": "code",
   "execution_count": 140,
   "metadata": {},
   "outputs": [],
   "source": [
    "fasta_files = !ls ./*.fasta\n",
    "fasta_files = fasta_files[1:]\n",
    "outfilename = \"bbmap_cmd.txt\"\n",
    "outfile = open(outfilename, \"w\")\n",
    "\n",
    "for i in fasta_files:\n",
    "    IMGID = i.split(\"_\")[0].split(\"/\")[1]\n",
    "    #IMGID = int(IMGID)\n",
    "    #IMGID_to_spid[IMGID_to_spid[\"IMGID\"] == IMGID]\n",
    "    #print(IMGID)\n",
    "    \n",
    "    try:\n",
    "        spid = IMGID_to_spid_dict[IMGID]\n",
    "        if np.mean(spid_to_path[\"SPID\"] == spid) != 0:\n",
    "            outfile.write(\"bbmap.sh ref=\" + i + \" in=\" + \" in=\".join(list(spid_to_path[spid_to_path[\"SPID\"] == spid][\"path\"]))+\" out=\"+i.split(\".fasta\")[0]+\"_mapped.sam nodisk bs=\"+i.split(\".fasta\")[0]+\".sh idtag=t ; bash \"+i.split(\".fasta\")[0]+\".sh \")\n",
    "            outfile.write(\"; cat \" + i.split(\".fasta\")[0] + \"_mapped.sam\" + \"| grep -n \\\"YI:f:\\\" | awk -F \\\"YI:f:\\\" '{print $NF}' | sort -n > \" + i.split(\".fasta\")[0]+ \"_mappped_per.txt\")\n",
    "            outfile.write(\"; rm \"+i.split(\".fasta\")[0] + \"_mapped.sam\"+ \"\\n\")\n",
    "    except:\n",
    "        pass \n",
    "outfile.close()\n",
    "        "
   ]
  },
  {
   "cell_type": "code",
   "execution_count": null,
   "metadata": {},
   "outputs": [],
   "source": [
    "cat bbmap_cmd.txt"
   ]
  }
 ],
 "metadata": {
  "kernelspec": {
   "display_name": "Python 3",
   "language": "python",
   "name": "python3"
  },
  "language_info": {
   "codemirror_mode": {
    "name": "ipython",
    "version": 3
   },
   "file_extension": ".py",
   "mimetype": "text/x-python",
   "name": "python",
   "nbconvert_exporter": "python",
   "pygments_lexer": "ipython3",
   "version": "3.6.5"
  }
 },
 "nbformat": 4,
 "nbformat_minor": 2
}
