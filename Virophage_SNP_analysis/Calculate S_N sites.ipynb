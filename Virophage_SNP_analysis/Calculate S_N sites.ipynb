{
 "cells": [
  {
   "cell_type": "code",
   "execution_count": 56,
   "metadata": {},
   "outputs": [],
   "source": [
    "from sys import argv\n",
    "from Bio import SeqIO\n",
    "from Bio import codonalign\n",
    "from Bio.Seq import Seq\n",
    "from Bio.Alphabet import IUPAC, Gapped\n",
    "from Bio.Align import MultipleSeqAlignment\n",
    "from Bio.SeqRecord import SeqRecord\n",
    "\n",
    "import numpy as np\n",
    "import pandas as pd"
   ]
  },
  {
   "cell_type": "code",
   "execution_count": 20,
   "metadata": {
    "collapsed": true
   },
   "outputs": [],
   "source": [
    "def translate(seq): \n",
    "       \n",
    "    table = { \n",
    "        'ATA':'I', 'ATC':'I', 'ATT':'I', 'ATG':'M', \n",
    "        'ACA':'T', 'ACC':'T', 'ACG':'T', 'ACT':'T', \n",
    "        'AAC':'N', 'AAT':'N', 'AAA':'K', 'AAG':'K', \n",
    "        'AGC':'S', 'AGT':'S', 'AGA':'R', 'AGG':'R',                  \n",
    "        'CTA':'L', 'CTC':'L', 'CTG':'L', 'CTT':'L', \n",
    "        'CCA':'P', 'CCC':'P', 'CCG':'P', 'CCT':'P', \n",
    "        'CAC':'H', 'CAT':'H', 'CAA':'Q', 'CAG':'Q', \n",
    "        'CGA':'R', 'CGC':'R', 'CGG':'R', 'CGT':'R', \n",
    "        'GTA':'V', 'GTC':'V', 'GTG':'V', 'GTT':'V', \n",
    "        'GCA':'A', 'GCC':'A', 'GCG':'A', 'GCT':'A', \n",
    "        'GAC':'D', 'GAT':'D', 'GAA':'E', 'GAG':'E', \n",
    "        'GGA':'G', 'GGC':'G', 'GGG':'G', 'GGT':'G', \n",
    "        'TCA':'S', 'TCC':'S', 'TCG':'S', 'TCT':'S', \n",
    "        'TTC':'F', 'TTT':'F', 'TTA':'L', 'TTG':'L', \n",
    "        'TAC':'Y', 'TAT':'Y', 'TAA':'_', 'TAG':'_', \n",
    "        'TGC':'C', 'TGT':'C', 'TGA':'_', 'TGG':'W', \n",
    "    } \n",
    "    protein =\"\" \n",
    "    if len(seq)%3 == 0: \n",
    "        for i in range(0, len(seq), 3): \n",
    "            try:\n",
    "                codon = seq[i:i + 3] \n",
    "                protein+= table[codon]\n",
    "            except:\n",
    "                pass\n",
    "    return protein"
   ]
  },
  {
   "cell_type": "code",
   "execution_count": 53,
   "metadata": {},
   "outputs": [],
   "source": [
    "B = [\"A\",\"T\",\"C\",\"G\"]\n",
    "num = np.arange(len(B))\n",
    "check1 = dict(zip(B,num))\n",
    "#check2 = dict(zip(num,B))\n",
    "#B[:check1[\"A\"]] + B[check1[\"A\"]+1:]"
   ]
  },
  {
   "cell_type": "code",
   "execution_count": 54,
   "metadata": {},
   "outputs": [],
   "source": [
    "all_Ss = []\n",
    "all_Ns = []\n",
    "all_ID = []\n",
    "\n",
    "for each in SeqIO.parse(\"gene_snp_1117.fasta\", \"fasta\"):\n",
    "    seq = str(each.seq)\n",
    "    stan_pro = translate(seq)\n",
    "    Ss = 0\n",
    "    Ns = 0\n",
    "    for i in np.arange(len(seq)):\n",
    "        if seq[i] == \"N\":\n",
    "            pass\n",
    "        else:\n",
    "            for sub in B[:check1[seq[i]]] + B[check1[seq[i]]+1:]:\n",
    "                seq_sub = seq[:i] + sub + seq[i+1:]\n",
    "            \n",
    "                if stan_pro == translate(seq_sub):\n",
    "                    Ss = Ss +1\n",
    "                else:\n",
    "                    Ns = Ns +1\n",
    "    \n",
    "    all_Ss.append(Ss)    \n",
    "    all_Ns.append(Ns)\n",
    "    all_ID.append(str(each.id))"
   ]
  },
  {
   "cell_type": "code",
   "execution_count": 61,
   "metadata": {
    "scrolled": false
   },
   "outputs": [],
   "source": [
    "df = pd.DataFrame([all_ID,all_Ss,all_Ns]).T\n",
    "df.columns = [\"ID\",\"Ss\",\"Ns\"]\n",
    "df.to_csv(\"S_N_sites.csv\")"
   ]
  }
 ],
 "metadata": {
  "kernelspec": {
   "display_name": "Python 3",
   "language": "python",
   "name": "python3"
  },
  "language_info": {
   "codemirror_mode": {
    "name": "ipython",
    "version": 3
   },
   "file_extension": ".py",
   "mimetype": "text/x-python",
   "name": "python",
   "nbconvert_exporter": "python",
   "pygments_lexer": "ipython3",
   "version": "3.6.3"
  }
 },
 "nbformat": 4,
 "nbformat_minor": 2
}
