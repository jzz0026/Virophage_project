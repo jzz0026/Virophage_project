{
 "cells": [
  {
   "cell_type": "code",
   "execution_count": 19,
   "metadata": {},
   "outputs": [],
   "source": [
    "import pandas as pd\n",
    "import re\n",
    "import numpy as np\n",
    "import matplotlib.pyplot as plt\n",
    "import seaborn as sns\n"
   ]
  },
  {
   "cell_type": "code",
   "execution_count": 23,
   "metadata": {},
   "outputs": [
    {
     "name": "stderr",
     "output_type": "stream",
     "text": [
      "/opt/anaconda3/lib/python3.6/site-packages/ipykernel_launcher.py:8: SettingWithCopyWarning: \n",
      "A value is trying to be set on a copy of a slice from a DataFrame.\n",
      "Try using .loc[row_indexer,col_indexer] = value instead\n",
      "\n",
      "See the caveats in the documentation: http://pandas.pydata.org/pandas-docs/stable/indexing.html#indexing-view-versus-copy\n",
      "  \n",
      "/opt/anaconda3/lib/python3.6/site-packages/ipykernel_launcher.py:12: SettingWithCopyWarning: \n",
      "A value is trying to be set on a copy of a slice from a DataFrame.\n",
      "Try using .loc[row_indexer,col_indexer] = value instead\n",
      "\n",
      "See the caveats in the documentation: http://pandas.pydata.org/pandas-docs/stable/indexing.html#indexing-view-versus-copy\n",
      "  if sys.path[0] == '':\n"
     ]
    }
   ],
   "source": [
    "SNP_nohead = !ls *SNP_nohead.vcf \n",
    "SNP_nohead = SNP_nohead[1:]\n",
    "\n",
    "for each in SNP_nohead:\n",
    "    df = pd.read_csv(each,sep=\"\\t\")\n",
    "    df_SNP = df[df[\"ALT\"].str.contains(\",<\\*>\")]\n",
    "\n",
    "    df_SNP[\"SNP_rate\"] = df_SNP.iloc[:,-1].str.split(\":\",expand=True)[1]\n",
    "    df_SNP_2 = df_SNP[[\"POS\",\"REF\",\"ALT\",\"SNP_rate\"]]\n",
    "\n",
    "    ## del first and last value\n",
    "    df_SNP_2[\"SNP_rate_2\"] = df_SNP_2[\"SNP_rate\"].str.rstrip(',0').str.replace(r'^[0-9]+,', '')#.str.contains(\",\")\n",
    "\n",
    "    ## max change of base for each position\n",
    "    max_i = len(df_SNP_2[\"SNP_rate\"].str.split(\",\",expand=True).columns) - 2\n",
    "    max_i = np.arange(max_i)\n",
    "\n",
    "    ## number of changes for each position\n",
    "    SNP_rate = df_SNP_2[\"SNP_rate_2\"].str.split(\",\",expand=True)\n",
    "\n",
    "    ## show rows as long as one change number >= 4\n",
    "    x = SNP_rate[0].astype(\"float\") >= 4\n",
    "    for i in max_i[1:]:\n",
    "        x = x | (SNP_rate[i].astype(\"float\") >= 4)\n",
    "    \n",
    "    SNP_4 = df_SNP_2[x]\n",
    "\n",
    "    dft = df.iloc[SNP_4.index]\n",
    "    dft.to_csv(each.replace(\".vcf\",\"_filter.vcf\"),sep=\"\\t\",index=None)"
   ]
  }
 ],
 "metadata": {
  "kernelspec": {
   "display_name": "Python 3",
   "language": "python",
   "name": "python3"
  },
  "language_info": {
   "codemirror_mode": {
    "name": "ipython",
    "version": 3
   },
   "file_extension": ".py",
   "mimetype": "text/x-python",
   "name": "python",
   "nbconvert_exporter": "python",
   "pygments_lexer": "ipython3",
   "version": "3.6.5"
  }
 },
 "nbformat": 4,
 "nbformat_minor": 2
}
